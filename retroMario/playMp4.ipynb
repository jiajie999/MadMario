{
 "cells": [
  {
   "cell_type": "code",
   "execution_count": 19,
   "id": "ff600fee-eb9d-4834-a062-e6a51bb8c9f7",
   "metadata": {
    "tags": []
   },
   "outputs": [
    {
     "name": "stdout",
     "output_type": "stream",
     "text": [
      "./logs/2023-04-26T06-20-46/openaigym.video.0.219483.video000512.mp4\n"
     ]
    },
    {
     "data": {
      "text/html": [
       "<video src=\"./logs/2023-04-26T06-20-46/openaigym.video.0.219483.video000512.mp4\" controls  >\n",
       "      Your browser does not support the <code>video</code> element.\n",
       "    </video>"
      ],
      "text/plain": [
       "<IPython.core.display.Video object>"
      ]
     },
     "metadata": {},
     "output_type": "display_data"
    }
   ],
   "source": [
    "import os\n",
    "from datetime import datetime\n",
    "from IPython.display import Video\n",
    "\n",
    "most_recent_file = None \n",
    "most_recent_time = None\n",
    "prefix='./logs/2023-04-26T06-20-46/'\n",
    "for f in os.listdir(prefix):\n",
    "    if f.endswith('.mp4'):\n",
    "        mtime = os.path.getmtime(prefix+f)\n",
    "        mtime_dt = datetime.fromtimestamp(mtime)\n",
    "        if most_recent_time is None or mtime_dt > most_recent_time:\n",
    "            most_recent_time = mtime_dt\n",
    "            most_recent_file = prefix+f \n",
    "print(most_recent_file)            \n",
    "video = Video(filename=most_recent_file)\n",
    "display(video)\n"
   ]
  },
  {
   "cell_type": "code",
   "execution_count": 20,
   "id": "3d9fceda-03e3-4753-928e-778c7bc7af6f",
   "metadata": {
    "tags": []
   },
   "outputs": [
    {
     "name": "stdout",
     "output_type": "stream",
     "text": [
      "./logs/2023-04-26T06-20-46/openaigym.video.0.219483.video000027.mp4\n"
     ]
    },
    {
     "data": {
      "text/html": [
       "<video src=\"./logs/2023-04-26T06-20-46/openaigym.video.0.219483.video000027.mp4\" controls  >\n",
       "      Your browser does not support the <code>video</code> element.\n",
       "    </video>"
      ],
      "text/plain": [
       "<IPython.core.display.Video object>"
      ]
     },
     "metadata": {},
     "output_type": "display_data"
    }
   ],
   "source": [
    "largest_file = None\n",
    "largest_size = 0\n",
    "for f in os.listdir(prefix):\n",
    "    if f.endswith('.mp4'):\n",
    "        size = os.path.getsize(prefix+f)\n",
    "        if size > largest_size:\n",
    "            largest_size = size\n",
    "            largest_file = prefix+f\n",
    "print(largest_file)\n",
    "video = Video(filename=largest_file)\n",
    "display(video)\n"
   ]
  },
  {
   "cell_type": "code",
   "execution_count": null,
   "id": "ce4e06e7-ea02-4363-b229-9f3427c0e513",
   "metadata": {},
   "outputs": [],
   "source": []
  }
 ],
 "metadata": {
  "kernelspec": {
   "display_name": "Python 3 (ipykernel)",
   "language": "python",
   "name": "python3"
  },
  "language_info": {
   "codemirror_mode": {
    "name": "ipython",
    "version": 3
   },
   "file_extension": ".py",
   "mimetype": "text/x-python",
   "name": "python",
   "nbconvert_exporter": "python",
   "pygments_lexer": "ipython3",
   "version": "3.8.10"
  }
 },
 "nbformat": 4,
 "nbformat_minor": 5
}
